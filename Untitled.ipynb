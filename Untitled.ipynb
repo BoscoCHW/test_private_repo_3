{
 "cells": [
  {
   "cell_type": "markdown",
   "id": "71409aff-bab8-4547-ab48-b6f4725ba304",
   "metadata": {},
   "source": [
    "Hello w"
   ]
  },
  {
   "cell_type": "markdown",
   "id": "ec948412-dfd2-4455-8352-1a4f252ad864",
   "metadata": {},
   "source": [
    "Hello w"
   ]
  },
  {
   "cell_type": "markdown",
   "id": "b1de3e24-42aa-48d6-8624-4e2b30d2f717",
   "metadata": {},
   "source": [
    "Hello w"
   ]
  },
  {
   "cell_type": "markdown",
   "id": "ec4d6fad-9201-45f5-b1a0-defc4443e5a8",
   "metadata": {},
   "source": [
    "Hello w"
   ]
  }
 ],
 "metadata": {
  "kernelspec": {
   "display_name": "Python 3 (ipykernel)",
   "language": "python",
   "name": "python3"
  },
  "language_info": {
   "codemirror_mode": {
    "name": "ipython",
    "version": 3
   },
   "file_extension": ".py",
   "mimetype": "text/x-python",
   "name": "python",
   "nbconvert_exporter": "python",
   "pygments_lexer": "ipython3",
   "version": "3.9.12"
  }
 },
 "nbformat": 4,
 "nbformat_minor": 5
}
